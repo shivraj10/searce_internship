{
  "nbformat": 4,
  "nbformat_minor": 0,
  "metadata": {
    "colab": {
      "name": "27-01-2022_day-3.ipynb",
      "provenance": []
    },
    "kernelspec": {
      "name": "python3",
      "display_name": "Python 3"
    },
    "language_info": {
      "name": "python"
    }
  },
  "cells": [
    {
      "cell_type": "code",
      "source": [
        "#self implementation of priority queue data structure.\n",
        "class prior_queue:\n",
        "    def __init__(self):\n",
        "        self.queue=[]\n",
        "    \n",
        "    def isempty(self):\n",
        "        return len(self.queue)==0\n",
        "    \n",
        "    def push(self,n):\n",
        "        self.queue.append(n)\n",
        "    \n",
        "    def pop(self):\n",
        "        #returns the min element\n",
        "        t=min(self.queue)\n",
        "        self.queue.remove(min(self.queue))\n",
        "        return t"
      ],
      "metadata": {
        "id": "bxKDZCUVPU7K"
      },
      "execution_count": 1,
      "outputs": []
    },
    {
      "cell_type": "code",
      "source": [
        "n=int(input()) #input the number of orders\n",
        "order=[]\n",
        "for _ in range(n):\n",
        "    order.append(list(map(int,input().split())))\n",
        "order.sort() #sort all the orders as the ith customer is not the customer arriving at the  ith arrival time\n",
        "i=0\n",
        "wait=prior_queue() #priority queue\n",
        "total_wait=0 #total wait time for all the customers\n",
        "cur_time=0 #keeps track of time\n",
        "\n",
        "while i<len(order):\n",
        "    #if there are no orders wait for customers to order  \n",
        "    if wait.isempty() and order[i][0]>cur_time:\n",
        "        cur_time=order[i][0]\n",
        "\n",
        "    #push all the waiting orders i.e., all the orders than came before cur_time\n",
        "    while i<len(order) and order[i][0]<=cur_time:\n",
        "        wait.push([order[i][1],order[i][0]])\n",
        "        i+=1\n",
        "    #pop the wait priority queue with min pan making time\n",
        "    pan=wait.pop()\n",
        "    #update cur_time with the time taken to make a pan\n",
        "    cur_time+=pan[0]\n",
        "    #update the total waiting time\n",
        "    total_wait+=cur_time-pan[1]\n",
        "\n",
        "    #if all the orders are in waiting list and there are no more clients left serve the remaining pan orders\n",
        "    if i>=len(order):\n",
        "        while not wait.isempty():\n",
        "            pan=wait.pop()\n",
        "            cur_time+=pan[0]\n",
        "            total_wait+=cur_time-pan[1]\n",
        "print(total_wait//n)"
      ],
      "metadata": {
        "colab": {
          "base_uri": "https://localhost:8080/"
        },
        "id": "P2In-0x2PZqW",
        "outputId": "7b79bee5-25fd-4b85-8b38-81decc84f510"
      },
      "execution_count": 4,
      "outputs": [
        {
          "output_type": "stream",
          "name": "stdout",
          "text": [
            "9\n"
          ]
        }
      ]
    },
    {
      "cell_type": "code",
      "source": [
        "import heapq #priority queue using min heap"
      ],
      "metadata": {
        "id": "NeKvQosAEVLq"
      },
      "execution_count": null,
      "outputs": []
    },
    {
      "cell_type": "code",
      "source": [
        "n=int(input()) #input the number of orders\n",
        "order=[]\n",
        "for _ in range(n):\n",
        "    order.append(list(map(int,input().split())))\n",
        "order.sort() #sort all the orders as the ith customer is not the customer arriving at the  ith arrival time\n",
        "i=0\n",
        "wait=[] #array for priority queue\n",
        "total_wait=0 #total wait time for all the customers\n",
        "cur_time=0 #keeps track of time\n",
        "\n",
        "while i<len(order):\n",
        "    #if there are no orders wait for customers to order  \n",
        "    if not wait and order[i][0]>cur_time:\n",
        "        cur_time=order[i][0]\n",
        "        print(cur_time)\n",
        "\n",
        "    #push all the waiting orders i.e., all the orders than came before cur_time\n",
        "    while i<len(order) and order[i][0]<=cur_time:\n",
        "        heapq.heappush(wait,(order[i][1],order[i][0]))\n",
        "        i+=1\n",
        "    #pop the wait priority queue with min pan making time\n",
        "    pan=heapq.heappop(wait)\n",
        "    #update cur_time with the time taken to make a pan\n",
        "    cur_time+=pan[0]\n",
        "    #update the total waiting time\n",
        "    total_wait+=cur_time-pan[1]\n",
        "\n",
        "    #if all the orders are in waiting list and there are no more clients left serve the remaining pan orders\n",
        "    if i>=len(order):\n",
        "        while wait:\n",
        "            pan=heapq.heappop(wait)\n",
        "            cur_time+=pan[0]\n",
        "            total_wait+=cur_time-pan[1]\n",
        "print(total_wait//n)"
      ],
      "metadata": {
        "colab": {
          "base_uri": "https://localhost:8080/"
        },
        "id": "id_EB_wb_r-g",
        "outputId": "27c974e2-5964-44e9-f154-39a2c0ac8002"
      },
      "execution_count": null,
      "outputs": [
        {
          "output_type": "stream",
          "name": "stdout",
          "text": [
            "9\n"
          ]
        }
      ]
    }
  ]
}