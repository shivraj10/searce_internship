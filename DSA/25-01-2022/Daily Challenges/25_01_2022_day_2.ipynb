{
  "nbformat": 4,
  "nbformat_minor": 0,
  "metadata": {
    "colab": {
      "name": "25-01-2022_day-2.ipynb",
      "provenance": [],
      "collapsed_sections": []
    },
    "kernelspec": {
      "name": "python3",
      "display_name": "Python 3"
    },
    "language_info": {
      "name": "python"
    }
  },
  "cells": [
    {
      "cell_type": "code",
      "source": [
        "#for minimum integer\n",
        "import sys"
      ],
      "metadata": {
        "id": "8GULdwueeM3U"
      },
      "execution_count": 98,
      "outputs": []
    },
    {
      "cell_type": "code",
      "execution_count": 126,
      "metadata": {
        "id": "lbuj-yiTPzbK"
      },
      "outputs": [],
      "source": [
        "#class to implement stack data structure\n",
        "class Stack:\n",
        "    #constructor to initialize size and list\n",
        "    def __init__(self):\n",
        "        self.size=0\n",
        "        self.s=[]\n",
        "    #push\n",
        "    def push(self,x):\n",
        "        self.s.append(x)\n",
        "        self.size+=1\n",
        "\n",
        "    #if the size of stack is zero than it will raise an error\n",
        "    def pop(self):\n",
        "        if self.size>0:\n",
        "            self.s.pop()\n",
        "            self.size-=1\n",
        "        else:\n",
        "            print(\"Stack is empty\") \n",
        "        \n",
        "    #function to fetch the top element of the stack   \n",
        "    def top(self):\n",
        "        if self.size<=0:\n",
        "            return \"Stack is empty\"\n",
        "        else:\n",
        "            return self.s[self.size-1]\n",
        "    \n",
        "    #function to check is the stack is empty or not\n",
        "    def isempty(self):\n",
        "        if self.size==0:\n",
        "            return True\n",
        "        return False"
      ]
    },
    {
      "cell_type": "code",
      "source": [
        "#getMax function here an extra stack have been used. First all the element of t stack are been taken out one by one, compared and pushed into x stack, \n",
        "#as the elements in x stack are in reverse order again elements of x stack are transfered into t stack\n",
        "def getMax(t):\n",
        "    x=Stack()\n",
        "    #min integer in python\n",
        "    m=-sys.maxsize-10\n",
        "    while not t.isempty():\n",
        "        #to find max element\n",
        "        m=max(m,t.top())\n",
        "        x.push(t.top())\n",
        "        t.pop()\n",
        "    while not x.isempty():\n",
        "        t.push(x.top())\n",
        "        x.pop()\n",
        "    return m"
      ],
      "metadata": {
        "id": "jy8qGp-UbII5"
      },
      "execution_count": 128,
      "outputs": []
    },
    {
      "cell_type": "code",
      "source": [
        "#input method number 1 \n",
        "#input as given in the test case\n",
        "n = int(input())\n",
        "lines = []\n",
        "for i in range(n):\n",
        "    lines.append(list(map(int,input().split(' '))))\n",
        "print()\n",
        "print()\n",
        "print('Output -')\n",
        "print\n",
        "t=Stack()\n",
        "for i in lines:\n",
        "    if len(i)==2:\n",
        "        t.push(i[1])\n",
        "    else:\n",
        "        if i[0]==2:\n",
        "            t.pop()\n",
        "        else:\n",
        "            print(getMax(t))"
      ],
      "metadata": {
        "colab": {
          "base_uri": "https://localhost:8080/"
        },
        "id": "BKPEtvE5kiJx",
        "outputId": "2d244e51-5621-4979-a6c1-3f92f3451dd3"
      },
      "execution_count": 149,
      "outputs": [
        {
          "output_type": "stream",
          "name": "stdout",
          "text": [
            "10\n",
            "1 97\n",
            "2\n",
            "1 20\n",
            "2\n",
            "1 26\n",
            "1 20\n",
            "2\n",
            "3\n",
            "1 91\n",
            "3\n",
            "\n",
            "\n",
            "Output -\n",
            "26\n",
            "91\n"
          ]
        }
      ]
    },
    {
      "cell_type": "code",
      "source": [
        "#input method number 2\n",
        "n=int(input('Enter number of operations :\\n'))\n",
        "t=Stack()\n",
        "while n:\n",
        "    que=int(input('To push enter - 1 \\nTo pop enter - 2 \\nTo get maximum integer enter - 3 \\nTo exit enter - 4\\n'))\n",
        "    if que==1:\n",
        "        t.push(int(input('Enter the number to push : \\n')))\n",
        "        print()\n",
        "    elif que==2:\n",
        "        t.pop()\n",
        "        print()\n",
        "    elif que==3:\n",
        "        print('Max element :',getMax(t))\n",
        "        print()\n",
        "    else:\n",
        "        break\n",
        "    n-=1\n"
      ],
      "metadata": {
        "colab": {
          "base_uri": "https://localhost:8080/"
        },
        "id": "YZ7SgzpYQyIX",
        "outputId": "b9b726bd-6867-437d-98b0-332a8bea8fad"
      },
      "execution_count": 129,
      "outputs": [
        {
          "output_type": "stream",
          "name": "stdout",
          "text": [
            "Enter number of operations :\n",
            "10\n",
            "To push enter - 1 \n",
            "To pop enter - 2 \n",
            "To get maximum integer enter - 3 \n",
            "To exit enter - 4\n",
            "1\n",
            "Enter the number to push : \n",
            "97\n",
            "\n",
            "To push enter - 1 \n",
            "To pop enter - 2 \n",
            "To get maximum integer enter - 3 \n",
            "To exit enter - 4\n",
            "2\n",
            "\n",
            "To push enter - 1 \n",
            "To pop enter - 2 \n",
            "To get maximum integer enter - 3 \n",
            "To exit enter - 4\n",
            "1\n",
            "Enter the number to push : \n",
            "20\n",
            "\n",
            "To push enter - 1 \n",
            "To pop enter - 2 \n",
            "To get maximum integer enter - 3 \n",
            "To exit enter - 4\n",
            "2\n",
            "\n",
            "To push enter - 1 \n",
            "To pop enter - 2 \n",
            "To get maximum integer enter - 3 \n",
            "To exit enter - 4\n",
            "1\n",
            "Enter the number to push : \n",
            "26\n",
            "\n",
            "To push enter - 1 \n",
            "To pop enter - 2 \n",
            "To get maximum integer enter - 3 \n",
            "To exit enter - 4\n",
            "1\n",
            "Enter the number to push : \n",
            "20\n",
            "\n",
            "To push enter - 1 \n",
            "To pop enter - 2 \n",
            "To get maximum integer enter - 3 \n",
            "To exit enter - 4\n",
            "2\n",
            "\n",
            "To push enter - 1 \n",
            "To pop enter - 2 \n",
            "To get maximum integer enter - 3 \n",
            "To exit enter - 4\n",
            "3\n",
            "Max element : 26\n",
            "\n",
            "To push enter - 1 \n",
            "To pop enter - 2 \n",
            "To get maximum integer enter - 3 \n",
            "To exit enter - 4\n",
            "1\n",
            "Enter the number to push : \n",
            "91\n",
            "\n",
            "To push enter - 1 \n",
            "To pop enter - 2 \n",
            "To get maximum integer enter - 3 \n",
            "To exit enter - 4\n",
            "3\n",
            "Max element : 91\n",
            "\n"
          ]
        }
      ]
    }
  ]
}