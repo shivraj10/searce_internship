{
  "nbformat": 4,
  "nbformat_minor": 0,
  "metadata": {
    "colab": {
      "name": "Untitled13.ipynb",
      "provenance": []
    },
    "kernelspec": {
      "name": "python3",
      "display_name": "Python 3"
    },
    "language_info": {
      "name": "python"
    }
  },
  "cells": [
    {
      "cell_type": "code",
      "execution_count": 18,
      "metadata": {
        "colab": {
          "base_uri": "https://localhost:8080/"
        },
        "id": "LuF4TiODzXFN",
        "outputId": "6b23b5c7-8e1e-4b16-b0c6-ec838c50a944"
      },
      "outputs": [
        {
          "output_type": "stream",
          "name": "stdout",
          "text": [
            "4 3 5\n",
            "60 45 80 60\n",
            "30 60 75\n",
            "2\n"
          ]
        }
      ],
      "source": [
        "n,m,k=list(map(int,input().split()))\n",
        "ch=list(map(int,input().split()))\n",
        "ap=list(map(int,input().split()))\n",
        "ch.sort()\n",
        "ap.sort()\n",
        "i=0\n",
        "j=0\n",
        "cn=0\n",
        "while i<n and j<m:\n",
        "    #print(ch[i],ap[j])\n",
        "    if ch[i]<ap[j]:\n",
        "        if ch[i]+k>=ap[j]:\n",
        "            #print(ch[i],ap[j])\n",
        "            i+=1\n",
        "            j+=1\n",
        "            cn+=1\n",
        "            \n",
        "        else:\n",
        "            i+=1\n",
        "    elif ch[i]>ap[j]:\n",
        "        if ch[i]-k<=ap[j]:\n",
        "            #print(ch[i],ap[j])\n",
        "            i+=1\n",
        "            j+=1\n",
        "            cn+=1\n",
        "            \n",
        "        else:\n",
        "            j+=1\n",
        "    else:\n",
        "        i+=1\n",
        "        j+=1\n",
        "        cn+=1\n",
        "print(cn)\n",
        "    \n"
      ]
    }
  ]
}