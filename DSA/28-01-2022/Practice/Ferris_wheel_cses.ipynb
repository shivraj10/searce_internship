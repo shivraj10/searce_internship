{
  "nbformat": 4,
  "nbformat_minor": 0,
  "metadata": {
    "colab": {
      "name": "Untitled13.ipynb",
      "provenance": []
    },
    "kernelspec": {
      "name": "python3",
      "display_name": "Python 3"
    },
    "language_info": {
      "name": "python"
    }
  },
  "cells": [
    {
      "cell_type": "code",
      "execution_count": 67,
      "metadata": {
        "colab": {
          "base_uri": "https://localhost:8080/"
        },
        "id": "LuF4TiODzXFN",
        "outputId": "283503ee-7ccd-48b1-f490-37f2c9cdc44c"
      },
      "outputs": [
        {
          "output_type": "stream",
          "name": "stdout",
          "text": [
            "[1, 1, 1, 2, 2, 2, 2, 2, 2, 2]\n",
            "1 1\n",
            "9\n"
          ]
        }
      ],
      "source": [
        "n,w=list(map(int,input().split()))\n",
        "ar=list(map(int,input().split()))\n",
        "ar.sort()\n",
        "sum=ar[0]\n",
        "g=0\n",
        "i=0\n",
        "j=n-1\n",
        "while i<j:\n",
        "    if ar[i]+ar[j]<=w:\n",
        "        i+=1\n",
        "        j-=1\n",
        "        g+=1\n",
        "    else:\n",
        "        g+=1\n",
        "        j-=1\n",
        "if i==j:\n",
        "    g+=1\n",
        "print(g)\n",
        "\n"
      ]
    }
  ]
}