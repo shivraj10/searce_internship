{
  "nbformat": 4,
  "nbformat_minor": 0,
  "metadata": {
    "colab": {
      "name": "24-01-2022-day-1.ipynb",
      "provenance": []
    },
    "kernelspec": {
      "name": "python3",
      "display_name": "Python 3"
    },
    "language_info": {
      "name": "python"
    }
  },
  "cells": [
    {
      "cell_type": "markdown",
      "source": [
        "Question 1\n"
      ],
      "metadata": {
        "id": "TfnQEyWI0Mv8"
      }
    },
    {
      "cell_type": "code",
      "execution_count": 15,
      "metadata": {
        "colab": {
          "base_uri": "https://localhost:8080/"
        },
        "id": "pN2UMtTtw_as",
        "outputId": "d8184269-c58e-4a72-9b7e-a483ddb937fd"
      },
      "outputs": [
        {
          "output_type": "stream",
          "name": "stdout",
          "text": [
            "Enter elements :1 2 3 4 5 6\n",
            "[6, 5, 4, 3, 2, 1]\n"
          ]
        }
      ],
      "source": [
        "def reverse_list(arr):\n",
        "    #We will traverse till the mid of every array for even it will be n/2 and for odd it will be n-1/2, here n//2 takes care of all the cases.\n",
        "    #then we will swap the first and the last element, which gives us a reverse array\n",
        "    for i in range(0,len(arr)//2):\n",
        "        t=arr[i]\n",
        "        arr[i]=arr[len(arr)-i-1]\n",
        "        arr[len(arr)-i-1]=t\n",
        "\n",
        "#input the array\n",
        "#map and split will convert the string of space seperated numbers into array of intergers\n",
        "#for ex if input is - 1 2 3 4\n",
        "#it will be converted into [1,2,3,4]\n",
        "arr=list(map(int,input(\"Enter elements :\").split()))\n",
        "reverse_list(arr)\n",
        "print(arr)"
      ]
    },
    {
      "cell_type": "markdown",
      "source": [
        "Question 2\n"
      ],
      "metadata": {
        "id": "espq4XZd0QI4"
      }
    },
    {
      "cell_type": "code",
      "source": [
        "# A class to create Nodes \n",
        "class Node:\n",
        "    def __init__(self,val):\n",
        "        #data\n",
        "        self.val=val\n",
        "        #pointer to next link\n",
        "        self.next=None\n",
        "\n",
        "#class to initialize Linked List as there is no concept of pointers in python we need to create class for the same\n",
        "class LinkedList:\n",
        "    def __init__(self):\n",
        "        #head or root pointer\n",
        "        self.root=None\n",
        "    \n",
        "    #function to add Nodes in the linked list\n",
        "    def addNode(self,val):\n",
        "        #if the root node is empty the node will be added to the root node\n",
        "        if self.root==None:\n",
        "            new=Node(val)\n",
        "            self.root=new\n",
        "        #if the root node is not empty the node will be added to the back of the linked list\n",
        "        else:\n",
        "            new=Node(val)\n",
        "            t=self.root\n",
        "            while(t.next):\n",
        "                t=t.next\n",
        "            t.next=new\n",
        "    #to print the linked list \n",
        "    def print_ll(self):\n",
        "        #if the root node is empty function won't go further\n",
        "        if self.root==None:\n",
        "            print(\"List is empty\")\n",
        "        #else it will traverse the linked list and print all the values\n",
        "        else:\n",
        "            t=self.root\n",
        "            while(t):\n",
        "                print(t.val)\n",
        "                t=t.next"
      ],
      "metadata": {
        "id": "-ZYaNtUU0Lfz"
      },
      "execution_count": 48,
      "outputs": []
    },
    {
      "cell_type": "code",
      "source": [
        "#initialize the linked list\n",
        "ll=LinkedList()\n",
        "#enter the size of the linked list\n",
        "n=int(input(\"Enter the size of the linked list :\"))\n",
        "#Input the elements of the linked list in a space seperated manner\n",
        "arr=list(map(int,input(\"Enter elements :\").split()))\n",
        "for i in range(0,n):\n",
        "    #Add nodes\n",
        "    ll.addNode(arr[i])\n",
        "#print Linekd list\n",
        "ll.print_ll()"
      ],
      "metadata": {
        "colab": {
          "base_uri": "https://localhost:8080/"
        },
        "id": "qJVZGNUU1n_x",
        "outputId": "6577ebf8-0ae7-4764-8876-b5d13d4ca985"
      },
      "execution_count": 54,
      "outputs": [
        {
          "output_type": "stream",
          "name": "stdout",
          "text": [
            "Enter the size of the linked list :4\n",
            "Enter elements :1 2 3 4 \n",
            "1\n",
            "2\n",
            "3\n",
            "4\n"
          ]
        }
      ]
    }
  ]
}